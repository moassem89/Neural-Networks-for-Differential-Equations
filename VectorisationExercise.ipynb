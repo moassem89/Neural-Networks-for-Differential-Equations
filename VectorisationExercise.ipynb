{
 "cells": [
  {
   "cell_type": "markdown",
   "metadata": {},
   "source": [
    "## Here we improve the program given in https://becominghuman.ai/neural-networks-for-solving-differential-equations-fa230ac5e04c . We boost the speed x30"
   ]
  },
  {
   "cell_type": "markdown",
   "metadata": {},
   "source": [
    "## DE\n",
    "\n",
    "Here we solve one of the most trivial ODEs:\n",
    "\n",
    "$$\\frac{dy}{dx} = y$$\n",
    "\n",
    "with IC: $(0,1)$. The analytic solution to this ODE is $y = e^x$."
   ]
  },
  {
   "cell_type": "code",
   "execution_count": 3,
   "metadata": {},
   "outputs": [],
   "source": [
    "# import numpy as np\n",
    "import autograd.numpy as np\n",
    "from autograd import grad \n",
    "import autograd.numpy.random as npr\n",
    "\n",
    "from autograd.core import primitive\n",
    "\n",
    "from matplotlib import pyplot as plt\n",
    "%matplotlib inline"
   ]
  },
  {
   "cell_type": "code",
   "execution_count": 4,
   "metadata": {},
   "outputs": [],
   "source": [
    "def A(x):\n",
    "    '''\n",
    "        Left part of initial equation\n",
    "    '''\n",
    "    return 1\n",
    "    #return x + (1. + 3.*x**2) / (1. + x + x**3)\n",
    "\n",
    "\n",
    "def B(x):\n",
    "    '''\n",
    "        Right part of initial equation\n",
    "    '''\n",
    "    return 0\n",
    "    #return x**3 + 2.*x + x**2 * ((1. + 3.*x**2) / (1. + x + x**3))\n",
    "\n",
    "\n",
    "def f(x, psy):\n",
    "    '''\n",
    "        d(psy)/dx = f(x, psy)\n",
    "        This is f() function on the right\n",
    "    '''\n",
    "    return psy\n",
    "    #return B(x) - psy * A(x)\n",
    "\n",
    "\n",
    "def psy_analytic(x):\n",
    "    '''\n",
    "        Analytical solution of current problem\n",
    "    '''\n",
    "    return np.exp(x)\n",
    "    #return (np.exp((-x**2)/2.)) / (1. + x + x**3) + x**2"
   ]
  },
  {
   "cell_type": "code",
   "execution_count": 5,
   "metadata": {},
   "outputs": [
    {
     "data": {
      "image/png": "[encoded data removed]",
      "text/plain": [
       "<Figure size 432x288 with 1 Axes>"
      ]
     },
     "metadata": {
      "needs_background": "light"
     },
     "output_type": "display_data"
    }
   ],
   "source": [
    "# Blue line is analytic\n",
    "# Orange line is Euler method solution\n",
    "\n",
    "nx = 50\n",
    "dx = 1. / nx\n",
    "\n",
    "x_space = np.linspace(0, 1, nx)    \n",
    "y_space = psy_analytic(x_space)\n",
    "psy_fd = np.zeros_like(y_space)\n",
    "psy_fd[0] = 1. # IC\n",
    "\n",
    "for i in range(1, len(x_space)):\n",
    "    psy_fd[i] = psy_fd[i-1] + B(x_space[i]) * dx + psy_fd[i-1] * A(x_space[i]) * dx\n",
    "  \n",
    "plt.figure()\n",
    "plt.plot(x_space, y_space) \n",
    "plt.plot(x_space, psy_fd)\n",
    "plt.show()"
   ]
  },
  {
   "cell_type": "code",
   "execution_count": 62,
   "metadata": {},
   "outputs": [],
   "source": [
    "## NN Architecture\n",
    "\n",
    "def sigmoid(x):\n",
    "    return 1 / (1 + np.exp(-x))\n",
    "\n",
    "def sigmoid_grad(x):\n",
    "    return sigmoid(x) * (1 - sigmoid(x))\n",
    "\n",
    "def neural_network(W, x):\n",
    "    a1 = sigmoid(np.dot(x, W[0]))\n",
    "    return np.dot(a1, W[1])\n",
    "\n",
    "def d_neural_network_dx(W, x, k=1):\n",
    "    return np.dot(np.dot(W[1].T, W[0].T**k), sigmoid_grad(x))\n",
    "\n",
    "def loss_function(W, x):\n",
    "    loss_sum = 0.\n",
    "    for xi in x:\n",
    "        net_out = neural_network(W, xi)[0][0]\n",
    "        psy_t = 1. + xi * net_out\n",
    "        d_net_out = d_neural_network_dx(W, xi)[0][0]\n",
    "        d_psy_t = net_out + xi * d_net_out\n",
    "        func = f(xi, psy_t)       \n",
    "        err_sqr = (d_psy_t - func)**2\n",
    "#         print(err_sqr)\n",
    "\n",
    "        loss_sum += err_sqr\n",
    "    return loss_sum"
   ]
  },
  {
   "cell_type": "code",
   "execution_count": 57,
   "metadata": {},
   "outputs": [
    {
     "data": {
      "text/plain": [
       "array([0.97620475, 0.97610311, 0.97579828, 0.97529051, 0.97458023,\n",
       "       0.97366802, 0.97255463, 0.97124101, 0.96972822, 0.96801753,\n",
       "       0.96611033, 0.9640082 , 0.96171286, 0.95922617, 0.95655016,\n",
       "       0.953687  , 0.95063899, 0.94740857, 0.94399834, 0.94041098,\n",
       "       0.93664934, 0.93271637, 0.92861513, 0.9243488 , 0.91992066,\n",
       "       0.91533409, 0.91059257, 0.90569967, 0.90065903, 0.89547438,\n",
       "       0.89014953, 0.88468833, 0.87909471, 0.87337267, 0.86752622,\n",
       "       0.86155946, 0.8554765 , 0.84928148, 0.84297859, 0.83657203,\n",
       "       0.83006601, 0.82346477, 0.81677253, 0.80999354, 0.80313203,\n",
       "       0.79619223, 0.78917834, 0.78209457, 0.77494508, 0.76773401])"
      ]
     },
     "execution_count": 57,
     "metadata": {},
     "output_type": "execute_result"
    }
   ],
   "source": [
    "Z = np.dot(W[1].T, W[0].T**1)*sigmoid_grad(x_space)\n",
    "Z.flatten()"
   ]
  },
  {
   "cell_type": "code",
   "execution_count": 8,
   "metadata": {},
   "outputs": [],
   "source": [
    "W = [npr.randn(1, 10), npr.randn(10, 1)]\n",
    "lmb = 0.001"
   ]
  },
  {
   "cell_type": "code",
   "execution_count": 15,
   "metadata": {},
   "outputs": [
    {
     "data": {
      "text/plain": [
       "(3,)"
      ]
     },
     "execution_count": 15,
     "metadata": {},
     "output_type": "execute_result"
    }
   ],
   "source": [
    "np.shape(np.array([1, 2, 3]))"
   ]
  },
  {
   "cell_type": "code",
   "execution_count": 59,
   "metadata": {},
   "outputs": [],
   "source": [
    "def vectorised_d_neural_network(W,x, k=1):\n",
    "    vectorised_a1 = sigmoid(np.matmul(W[0].T, np.reshape(x_space, (1,len(x_space)))))\n",
    "    return np.matmul( vectorised_a1.T, W[1]).flatten()\n",
    "\n",
    "def vectorised_d_neural_network_dx(W, x, k=1):\n",
    "    Z = np.dot(W[1].T, W[0].T**k)*sigmoid_grad(x)\n",
    "    return Z.flatten()"
   ]
  },
  {
   "cell_type": "markdown",
   "metadata": {},
   "source": [
    "### Here is our vectorised version"
   ]
  },
  {
   "cell_type": "code",
   "execution_count": 1,
   "metadata": {},
   "outputs": [],
   "source": [
    "def loss_function2(W, x):\n",
    "    '''loss_sum = 0.\n",
    "    for xi in x:\n",
    "        net_out = neural_network(W, xi)[0][0]\n",
    "        psy_t = 1. + xi * net_out\n",
    "        d_net_out = d_neural_network_dx(W, xi)[0][0]\n",
    "        d_psy_t = net_out + xi * d_net_out\n",
    "        func = f(xi, psy_t)       \n",
    "        err_sqr = (d_psy_t - func)**2\n",
    "#         print(err_sqr)\n",
    "\n",
    "        loss_sum += err_sqr\n",
    "    return loss_sum'''\n",
    "    vec_net_out = vectorised_neural_network(W,x)\n",
    "    vec_psy_t = 1. + x * vec_net_out\n",
    "    vec_d_net_out = vectorised_d_neural_network_dx(W, x)\n",
    "    vec_d_psy_t = vec_net_out + x * vec_d_net_out\n",
    "    func = f(x, vec_psy_t)       \n",
    "    err_sqr = np.sum((vec_d_psy_t - func)**2)\n",
    "    return err_sqr"
   ]
  },
  {
   "cell_type": "code",
   "execution_count": 65,
   "metadata": {},
   "outputs": [
    {
     "name": "stdout",
     "output_type": "stream",
     "text": [
      "1.07 ms ± 10.9 µs per loop (mean ± std. dev. of 7 runs, 1000 loops each)\n"
     ]
    }
   ],
   "source": [
    "%%timeit\n",
    "loss_function(W,x_space)"
   ]
  },
  {
   "cell_type": "code",
   "execution_count": 68,
   "metadata": {},
   "outputs": [
    {
     "name": "stdout",
     "output_type": "stream",
     "text": [
      "CPU times: user 0 ns, sys: 0 ns, total: 0 ns\n",
      "Wall time: 576 µs\n"
     ]
    },
    {
     "data": {
      "text/plain": [
       "0.4703427837783457"
      ]
     },
     "execution_count": 68,
     "metadata": {},
     "output_type": "execute_result"
    }
   ],
   "source": [
    "%%time\n",
    "loss_function2(W,x_space)"
   ]
  },
  {
   "cell_type": "code",
   "execution_count": 69,
   "metadata": {},
   "outputs": [
    {
     "name": "stdout",
     "output_type": "stream",
     "text": [
      "CPU times: user 47.4 s, sys: 584 ms, total: 48 s\n",
      "Wall time: 46.7 s\n"
     ]
    }
   ],
   "source": [
    "%%time\n",
    "for i in range(1000):\n",
    "    loss_grad =  grad(loss_function)(W, x_space)\n",
    "    \n",
    "#     print loss_grad[0].shape, W[0].shape\n",
    "#     print loss_grad[1].shape, W[1].shape\n",
    "    \n",
    "    W[0] = W[0] - lmb * loss_grad[0]\n",
    "    W[1] = W[1] - lmb * loss_grad[1]\n",
    "    \n",
    "#     print loss_function(W, x_space)"
   ]
  },
  {
   "cell_type": "code",
   "execution_count": 70,
   "metadata": {},
   "outputs": [
    {
     "name": "stdout",
     "output_type": "stream",
     "text": [
      "CPU times: user 1.29 s, sys: 40 ms, total: 1.33 s\n",
      "Wall time: 1.28 s\n"
     ]
    }
   ],
   "source": [
    "%%time\n",
    "for i in range(1000):\n",
    "    loss_grad =  grad(loss_function2)(W, x_space)\n",
    "    \n",
    "#     print loss_grad[0].shape, W[0].shape\n",
    "#     print loss_grad[1].shape, W[1].shape\n",
    "    \n",
    "    W[0] = W[0] - lmb * loss_grad[0]\n",
    "    W[1] = W[1] - lmb * loss_grad[1]\n",
    "    \n",
    "#     print loss_function(W, x_space)"
   ]
  },
  {
   "cell_type": "code",
   "execution_count": 71,
   "metadata": {},
   "outputs": [
    {
     "name": "stdout",
     "output_type": "stream",
     "text": [
      "0.4697629092338828\n",
      "[array([[ 1.90404522, -0.23499739,  0.66143839,  1.98577858,  0.27925992,\n",
      "         1.16316955,  1.40180524, -0.27228402, -0.42921001, -0.94120553]]), array([[ 0.77351779],\n",
      "       [-0.57165397],\n",
      "       [ 0.45686897],\n",
      "       [ 0.35851765],\n",
      "       [-1.31887797],\n",
      "       [ 0.4069638 ],\n",
      "       [ 1.020305  ],\n",
      "       [ 0.53417198],\n",
      "       [-0.24753684],\n",
      "       [ 0.22358681]])]\n"
     ]
    },
    {
     "data": {
      "image/png": "[encoded data removed]",
      "text/plain": [
       "<Figure size 432x288 with 1 Axes>"
      ]
     },
     "metadata": {
      "needs_background": "light"
     },
     "output_type": "display_data"
    }
   ],
   "source": [
    "print (loss_function(W, x_space))\n",
    "res = [1 + xi * neural_network(W, xi)[0][0] for xi in x_space] \n",
    "\n",
    "print (W)\n",
    "\n",
    "plt.figure()\n",
    "plt.plot(x_space, y_space) \n",
    "plt.plot(x_space, psy_fd)\n",
    "plt.plot(x_space, res)\n",
    "plt.show()"
   ]
  },
  {
   "cell_type": "code",
   "execution_count": null,
   "metadata": {},
   "outputs": [],
   "source": []
  },
  {
   "cell_type": "code",
   "execution_count": null,
   "metadata": {},
   "outputs": [],
   "source": []
  }
 ],
 "metadata": {
  "kernelspec": {
   "display_name": "Python 3",
   "language": "python",
   "name": "python3"
  },
  "language_info": {
   "codemirror_mode": {
    "name": "ipython",
    "version": 3
   },
   "file_extension": ".py",
   "mimetype": "text/x-python",
   "name": "python",
   "nbconvert_exporter": "python",
   "pygments_lexer": "ipython3",
   "version": "3.7.2"
  }
 },
 "nbformat": 4,
 "nbformat_minor": 2
}
